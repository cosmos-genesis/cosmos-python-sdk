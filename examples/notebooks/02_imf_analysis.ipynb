{
 "cells": [
  {
   "cell_type": "markdown",
   "metadata": {},
   "source": [
    "# Validating the Kroupa Initial Mass Function\n",
    "\n",
    "This notebook demonstrates how to validate that Cosmos Genesis star generation follows the Kroupa (2001) Initial Mass Function.\n",
    "\n",
    "## Theory\n",
    "\n",
    "The Kroupa IMF is a broken power law:\n",
    "\n",
    "$$\\xi(m) \\propto \\begin{cases}\n",
    "m^{-0.3} & 0.01 < m/M_\\odot < 0.08 \\\\\n",
    "m^{-1.3} & 0.08 < m/M_\\odot < 0.5 \\\\\n",
    "m^{-2.3} & 0.5 < m/M_\\odot\n",
    "\\end{cases}$$\n",
    "\n",
    "Where $\\alpha = 2.3$ is the Salpeter slope for high-mass stars.\n",
    "\n",
    "## References\n",
    "\n",
    "- Kroupa, P. (2001). *On the variation of the initial mass function*. MNRAS, 322(2), 231-246."
   ]
  },
  {
   "cell_type": "code",
   "execution_count": null,
   "metadata": {},
   "outputs": [],
   "source": [
    "from cosmos_genesis import CosmosClient\n",
    "import pandas as pd\n",
    "import numpy as np\n",
    "import matplotlib.pyplot as plt\n",
    "from scipy.optimize import curve_fit\n",
    "\n",
    "# Initialize client\n",
    "client = CosmosClient()\n",
    "print(\"✓ Connected to Cosmos Genesis\")"
   ]
  },
  {
   "cell_type": "markdown",
   "metadata": {},
   "source": [
    "## 1. Query All Stars in Galaxy"
   ]
  },
  {
   "cell_type": "code",
   "execution_count": null,
   "metadata": {},
   "outputs": [],
   "source": [
    "# Query all stars (or large sample)\n",
    "galaxy_id = \"spiral-sm-2arm-001\"\n",
    "\n",
    "df = client.query_to_dataframe(\n",
    "    galaxy_id=galaxy_id,\n",
    "    query=\"\"\"\n",
    "        SELECT\n",
    "            stellar_mass_msun,\n",
    "            spectral_type\n",
    "        FROM star\n",
    "        WHERE stellar_mass_msun > 0.01  -- Exclude edge cases\n",
    "    \"\"\"\n",
    ")\n",
    "\n",
    "print(f\"Total stars: {len(df):,}\")\n",
    "print(f\"Mass range: {df['stellar_mass_msun'].min():.3f} - {df['stellar_mass_msun'].max():.1f} M☉\")"
   ]
  },
  {
   "cell_type": "markdown",
   "metadata": {},
   "source": [
    "## 2. Compute Mass Function"
   ]
  },
  {
   "cell_type": "code",
   "execution_count": null,
   "metadata": {},
   "outputs": [],
   "source": [
    "# Create logarithmic mass bins\n",
    "log_mass = np.log10(df['stellar_mass_msun'])\n",
    "bins = np.logspace(np.log10(0.01), np.log10(df['stellar_mass_msun'].max()), 40)\n",
    "hist, bin_edges = np.histogram(df['stellar_mass_msun'], bins=bins)\n",
    "\n",
    "# Compute bin centers and widths\n",
    "bin_centers = (bin_edges[:-1] + bin_edges[1:]) / 2\n",
    "bin_widths = bin_edges[1:] - bin_edges[:-1]\n",
    "\n",
    "# Normalize by bin width (differential mass function)\n",
    "dmf = hist / bin_widths\n",
    "\n",
    "print(f\"Created {len(bins)-1} logarithmic mass bins\")"
   ]
  },
  {
   "cell_type": "markdown",
   "metadata": {},
   "source": [
    "## 3. Plot Observed IMF"
   ]
  },
  {
   "cell_type": "code",
   "execution_count": null,
   "metadata": {},
   "outputs": [],
   "source": [
    "plt.figure(figsize=(12, 8))\n",
    "\n",
    "# Plot histogram\n",
    "plt.subplot(2, 1, 1)\n",
    "plt.hist(df['stellar_mass_msun'], bins=bins, edgecolor='black', alpha=0.7, label='Observed')\n",
    "plt.xscale('log')\n",
    "plt.yscale('log')\n",
    "plt.xlabel('Stellar Mass (M☉)')\n",
    "plt.ylabel('Number of Stars')\n",
    "plt.title('Stellar Mass Distribution (Log-Log)')\n",
    "plt.grid(alpha=0.3)\n",
    "plt.legend()\n",
    "\n",
    "# Plot differential mass function\n",
    "plt.subplot(2, 1, 2)\n",
    "plt.plot(bin_centers, dmf, 'o-', label='Observed dN/dm', alpha=0.7)\n",
    "plt.xscale('log')\n",
    "plt.yscale('log')\n",
    "plt.xlabel('Stellar Mass (M☉)')\n",
    "plt.ylabel('dN/dm (differential mass function)')\n",
    "plt.title('Initial Mass Function')\n",
    "plt.grid(alpha=0.3)\n",
    "plt.legend()\n",
    "\n",
    "plt.tight_layout()\n",
    "plt.show()"
   ]
  },
  {
   "cell_type": "markdown",
   "metadata": {},
   "source": [
    "## 4. Fit Power Law to High-Mass Stars"
   ]
  },
  {
   "cell_type": "code",
   "execution_count": null,
   "metadata": {},
   "outputs": [],
   "source": [
    "# Focus on high-mass regime (M > 0.5 M☉)\n",
    "mask_high_mass = df['stellar_mass_msun'] > 0.5\n",
    "high_mass_stars = df[mask_high_mass]\n",
    "\n",
    "# Create bins for high-mass regime\n",
    "bins_high = np.logspace(np.log10(0.5), np.log10(high_mass_stars['stellar_mass_msun'].max()), 20)\n",
    "hist_high, bin_edges_high = np.histogram(high_mass_stars['stellar_mass_msun'], bins=bins_high)\n",
    "\n",
    "bin_centers_high = (bin_edges_high[:-1] + bin_edges_high[1:]) / 2\n",
    "bin_widths_high = bin_edges_high[1:] - bin_edges_high[:-1]\n",
    "dmf_high = hist_high / bin_widths_high\n",
    "\n",
    "# Remove zero bins\n",
    "nonzero = dmf_high > 0\n",
    "x_fit = bin_centers_high[nonzero]\n",
    "y_fit = dmf_high[nonzero]\n",
    "\n",
    "# Fit power law: dN/dm ∝ m^α\n",
    "def power_law(m, A, alpha):\n",
    "    return A * m**alpha\n",
    "\n",
    "popt, pcov = curve_fit(power_law, x_fit, y_fit, p0=[1000, -2.3])\n",
    "A_fit, alpha_fit = popt\n",
    "alpha_err = np.sqrt(pcov[1, 1])\n",
    "\n",
    "print(\"Fitted Power Law (M > 0.5 M☉):\")\n",
    "print(f\"  α = {alpha_fit:.3f} ± {alpha_err:.3f}\")\n",
    "print(f\"  Expected (Kroupa): α = -2.3\")\n",
    "print(f\"  Deviation: {abs(alpha_fit + 2.3):.3f}\")\n",
    "print()\n",
    "\n",
    "if abs(alpha_fit + 2.3) < 0.1:\n",
    "    print(\"✓ Excellent agreement with Kroupa IMF!\")\n",
    "elif abs(alpha_fit + 2.3) < 0.2:\n",
    "    print(\"✓ Good agreement with Kroupa IMF\")\n",
    "else:\n",
    "    print(\"⚠ Significant deviation from Kroupa IMF\")"
   ]
  },
  {
   "cell_type": "markdown",
   "metadata": {},
   "source": [
    "## 5. Visualize Fit"
   ]
  },
  {
   "cell_type": "code",
   "execution_count": null,
   "metadata": {},
   "outputs": [],
   "source": [
    "plt.figure(figsize=(10, 6))\n",
    "\n",
    "# Observed data\n",
    "plt.plot(bin_centers_high, dmf_high, 'o', label='Observed (M > 0.5 M☉)', alpha=0.7, markersize=8)\n",
    "\n",
    "# Fitted power law\n",
    "m_theory = np.logspace(np.log10(0.5), np.log10(high_mass_stars['stellar_mass_msun'].max()), 100)\n",
    "dmf_theory = power_law(m_theory, A_fit, alpha_fit)\n",
    "plt.plot(m_theory, dmf_theory, 'r-', linewidth=2, label=f'Fitted: α = {alpha_fit:.2f}')\n",
    "\n",
    "# Kroupa theoretical\n",
    "dmf_kroupa = power_law(m_theory, A_fit, -2.3)\n",
    "plt.plot(m_theory, dmf_kroupa, 'g--', linewidth=2, label='Kroupa (2001): α = -2.3')\n",
    "\n",
    "plt.xscale('log')\n",
    "plt.yscale('log')\n",
    "plt.xlabel('Stellar Mass (M☉)', fontsize=12)\n",
    "plt.ylabel('dN/dm', fontsize=12)\n",
    "plt.title('High-Mass IMF vs Kroupa (2001)', fontsize=14)\n",
    "plt.legend(fontsize=11)\n",
    "plt.grid(alpha=0.3)\n",
    "plt.tight_layout()\n",
    "plt.show()"
   ]
  },
  {
   "cell_type": "markdown",
   "metadata": {},
   "source": [
    "## 6. Summary Statistics by Spectral Type"
   ]
  },
  {
   "cell_type": "code",
   "execution_count": null,
   "metadata": {},
   "outputs": [],
   "source": [
    "# Count by spectral type\n",
    "spectral_counts = df['spectral_type'].value_counts().sort_index()\n",
    "\n",
    "print(\"Stars by Spectral Type:\")\n",
    "print(\"=\" * 40)\n",
    "for spec_type, count in spectral_counts.items():\n",
    "    pct = 100 * count / len(df)\n",
    "    print(f\"  {spec_type}: {count:,} ({pct:.1f}%)\")\n",
    "\n",
    "print()\n",
    "print(f\"Total: {len(df):,} stars\")"
   ]
  },
  {
   "cell_type": "markdown",
   "metadata": {},
   "source": [
    "## Conclusion\n",
    "\n",
    "This analysis validates that Cosmos Genesis correctly implements the Kroupa (2001) IMF for stellar mass generation.\n",
    "\n",
    "## Next Steps\n",
    "\n",
    "- **[03_stellar_evolution.ipynb](03_stellar_evolution.ipynb)**: Track stellar evolution over time\n",
    "- **[04_exoplanet_stats.ipynb](04_exoplanet_stats.ipynb)**: Analyze exoplanet populations"
   ]
  }
 ],
 "metadata": {
  "kernelspec": {
   "display_name": "Python 3",
   "language": "python",
   "name": "python3"
  },
  "language_info": {
   "name": "python",
   "version": "3.9.0"
  }
 },
 "nbformat": 4,
 "nbformat_minor": 4
}
