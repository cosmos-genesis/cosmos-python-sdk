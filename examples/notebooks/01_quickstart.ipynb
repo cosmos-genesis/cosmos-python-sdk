{
 "cells": [
  {
   "cell_type": "markdown",
   "metadata": {},
   "source": [
    "# Cosmos Genesis Quickstart\n",
    "\n",
    "This notebook demonstrates basic usage of the Cosmos Genesis Python SDK.\n",
    "\n",
    "## Prerequisites\n",
    "\n",
    "1. Install SDK: `pip install cosmos-genesis-client`\n",
    "2. Get API key from [cosmosgenesis.com](https://cosmosgenesis.com/#beta-signup)\n",
    "3. Set environment variable: `export COSMOS_API_KEY=your_key`"
   ]
  },
  {
   "cell_type": "code",
   "execution_count": null,
   "metadata": {},
   "outputs": [],
   "source": [
    "# Install SDK (uncomment if needed)\n",
    "# !pip install cosmos-genesis-client pandas matplotlib"
   ]
  },
  {
   "cell_type": "code",
   "execution_count": null,
   "metadata": {},
   "outputs": [],
   "source": [
    "from cosmos_genesis import CosmosClient, QueryBuilder\n",
    "import pandas as pd\n",
    "import matplotlib.pyplot as plt\n",
    "\n",
    "# Initialize client\n",
    "client = CosmosClient()  # Reads COSMOS_API_KEY from environment\n",
    "print(\"✓ Connected to Cosmos Genesis\")"
   ]
  },
  {
   "cell_type": "markdown",
   "metadata": {},
   "source": [
    "## 1. List Available Galaxies"
   ]
  },
  {
   "cell_type": "code",
   "execution_count": null,
   "metadata": {},
   "outputs": [],
   "source": [
    "# Get list of galaxies\n",
    "galaxies = client.list_galaxies()\n",
    "\n",
    "print(f\"Available galaxies: {len(galaxies)}\\n\")\n",
    "for galaxy in galaxies:\n",
    "    print(f\"  {galaxy['galaxy_id']}: {galaxy['system_count']:,} systems\")"
   ]
  },
  {
   "cell_type": "markdown",
   "metadata": {},
   "source": [
    "## 2. Query Star Data"
   ]
  },
  {
   "cell_type": "code",
   "execution_count": null,
   "metadata": {},
   "outputs": [],
   "source": [
    "# Query massive stars\n",
    "galaxy_id = \"spiral-sm-2arm-001\"  # Use your galaxy ID\n",
    "\n",
    "df = client.query_to_dataframe(\n",
    "    galaxy_id=galaxy_id,\n",
    "    query=\"\"\"\n",
    "        SELECT\n",
    "            system_id,\n",
    "            stellar_mass_msun,\n",
    "            luminosity_lsun,\n",
    "            spectral_type,\n",
    "            age_myr\n",
    "        FROM star\n",
    "        WHERE stellar_mass_msun > 10\n",
    "        LIMIT 1000\n",
    "    \"\"\"\n",
    ")\n",
    "\n",
    "print(f\"Found {len(df)} massive stars\")\n",
    "df.head()"
   ]
  },
  {
   "cell_type": "markdown",
   "metadata": {},
   "source": [
    "## 3. Analyze Mass Distribution"
   ]
  },
  {
   "cell_type": "code",
   "execution_count": null,
   "metadata": {},
   "outputs": [],
   "source": [
    "# Plot stellar mass histogram\n",
    "plt.figure(figsize=(12, 6))\n",
    "\n",
    "plt.subplot(1, 2, 1)\n",
    "plt.hist(df['stellar_mass_msun'], bins=50, edgecolor='black', alpha=0.7)\n",
    "plt.xlabel('Stellar Mass (M☉)')\n",
    "plt.ylabel('Count')\n",
    "plt.title('Stellar Mass Distribution')\n",
    "plt.grid(alpha=0.3)\n",
    "\n",
    "plt.subplot(1, 2, 2)\n",
    "plt.hist(df['stellar_mass_msun'], bins=50, edgecolor='black', alpha=0.7)\n",
    "plt.xlabel('Stellar Mass (M☉)')\n",
    "plt.ylabel('Count')\n",
    "plt.title('Stellar Mass Distribution (Log Scale)')\n",
    "plt.yscale('log')\n",
    "plt.grid(alpha=0.3)\n",
    "\n",
    "plt.tight_layout()\n",
    "plt.show()"
   ]
  },
  {
   "cell_type": "markdown",
   "metadata": {},
   "source": [
    "## 4. Query Builder Example"
   ]
  },
  {
   "cell_type": "code",
   "execution_count": null,
   "metadata": {},
   "outputs": [],
   "source": [
    "# Use query builder for type-safe queries\n",
    "query = (\n",
    "    QueryBuilder()\n",
    "    .select(\"system_id\", \"stellar_mass_msun\", \"spectral_type\")\n",
    "    .from_table(\"star\")\n",
    "    .where(\"spectral_type = 'O'\")\n",
    "    .order_by(\"stellar_mass_msun\", \"DESC\")\n",
    "    .limit(10)\n",
    ")\n",
    "\n",
    "print(\"Generated query:\")\n",
    "print(query.build())\n",
    "print()\n",
    "\n",
    "# Execute query\n",
    "results = client.query_galaxy(galaxy_id, query.build())\n",
    "print(f\"Top 10 most massive O-type stars:\")\n",
    "for i, star in enumerate(results, 1):\n",
    "    print(f\"  {i}. {star['system_id']}: {star['stellar_mass_msun']} M☉\")"
   ]
  },
  {
   "cell_type": "markdown",
   "metadata": {},
   "source": [
    "## 5. Summary Statistics"
   ]
  },
  {
   "cell_type": "code",
   "execution_count": null,
   "metadata": {},
   "outputs": [],
   "source": [
    "# Compute statistics\n",
    "print(\"Summary Statistics:\")\n",
    "print(\"=\" * 60)\n",
    "print(f\"Total stars queried: {len(df):,}\")\n",
    "print(f\"Mass range: {df['stellar_mass_msun'].min():.2f} - {df['stellar_mass_msun'].max():.2f} M☉\")\n",
    "print(f\"Mean mass: {df['stellar_mass_msun'].mean():.2f} M☉\")\n",
    "print(f\"Median mass: {df['stellar_mass_msun'].median():.2f} M☉\")\n",
    "print()\n",
    "\n",
    "# Group by spectral type\n",
    "print(\"Stars by Spectral Type:\")\n",
    "print(df['spectral_type'].value_counts())"
   ]
  },
  {
   "cell_type": "markdown",
   "metadata": {},
   "source": [
    "## Next Steps\n",
    "\n",
    "- **[02_imf_analysis.ipynb](02_imf_analysis.ipynb)**: Validate Kroupa Initial Mass Function\n",
    "- **[03_stellar_evolution.ipynb](03_stellar_evolution.ipynb)**: Track stars over time\n",
    "- **[04_exoplanet_stats.ipynb](04_exoplanet_stats.ipynb)**: Analyze exoplanet populations\n",
    "\n",
    "## Documentation\n",
    "\n",
    "- **Schema Reference**: [cosmos-schemas](https://github.com/cosmosgenesis/cosmos-schemas)\n",
    "- **API Docs**: [docs.cosmosgenesis.com](https://docs.cosmosgenesis.com)\n",
    "- **Support**: info@cosmosgenesis.com"
   ]
  }
 ],
 "metadata": {
  "kernelspec": {
   "display_name": "Python 3",
   "language": "python",
   "name": "python3"
  },
  "language_info": {
   "name": "python",
   "version": "3.9.0"
  }
 },
 "nbformat": 4,
 "nbformat_minor": 4
}
